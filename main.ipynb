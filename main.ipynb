{
 "cells": [
  {
   "cell_type": "markdown",
   "metadata": {},
   "source": [
    "# Multilayer Perceptron for image recognition\n",
    "\n",
    "### Description\n",
    "Downloads/processes data and trains a neural network to identify handwritten digits from NIST\n",
    "\n",
    "### Authors\n",
    "Nicholas Brawand - nicholasbrawand@gmail.com\n",
    "\n",
    "### Network Features"
   ]
  },
  {
   "cell_type": "markdown",
   "metadata": {},
   "source": [
    "Import packages"
   ]
  },
  {
   "cell_type": "code",
   "execution_count": 1,
   "metadata": {
    "collapsed": false
   },
   "outputs": [],
   "source": [
    "import matplotlib.pyplot as plt\n",
    "from src import test\n",
    "from src import tools\n",
    "from src import mlp\n",
    "import os\n",
    "import numpy as np\n",
    "import sys\n",
    "%matplotlib inline"
   ]
  },
  {
   "cell_type": "markdown",
   "metadata": {},
   "source": [
    "Download data from NIST."
   ]
  },
  {
   "cell_type": "code",
   "execution_count": 2,
   "metadata": {
    "collapsed": false
   },
   "outputs": [
    {
     "name": "stdout",
     "output_type": "stream",
     "text": [
      "Downloading data\n",
      "train-images-idx3-ubyte.gz already exists\n",
      "train-labels-idx1-ubyte.gz already exists\n",
      "t10k-images-idx3-ubyte.gz already exists\n",
      "t10k-labels-idx1-ubyte.gz already exists\n",
      "train-images-idx3-ubyte already exists\n",
      "train-labels-idx1-ubyte already exists\n",
      "t10k-images-idx3-ubyte already exists\n",
      "t10k-labels-idx1-ubyte already exists\n"
     ]
    }
   ],
   "source": [
    "\n",
    "dataUrlList = [\n",
    "    \"http://yann.lecun.com/exdb/mnist/train-images-idx3-ubyte.gz\",\n",
    "    \"http://yann.lecun.com/exdb/mnist/train-labels-idx1-ubyte.gz\",\n",
    "    \"http://yann.lecun.com/exdb/mnist/t10k-images-idx3-ubyte.gz\",\n",
    "    \"http://yann.lecun.com/exdb/mnist/t10k-labels-idx1-ubyte.gz\"\n",
    "]\n",
    "\n",
    "# download data\n",
    "print(\"Downloading data\")\n",
    "outFils = []\n",
    "for l in dataUrlList:\n",
    "    if not os.path.isfile(os.path.basename(l)):\n",
    "        outFils.append(tools.DownloadData(l))\n",
    "    else:\n",
    "        print(os.path.basename(l), 'already exists')\n",
    "        outFils.append(tools.DownloadData(l))\n",
    "\n",
    "# unzip data\n",
    "imgFils = []\n",
    "for l in outFils:\n",
    "    newFil = l.replace('.gz', '')\n",
    "\n",
    "    if not os.path.isfile(newFil):\n",
    "        tools.UnzipFil(l, newFil)\n",
    "    else:\n",
    "        print(newFil, 'already exists')\n",
    "\n",
    "    imgFils.append(newFil)\n",
    "\n",
    "# imgFils are in the following order:\n",
    "#\n",
    "# imgFils = 'train-images-idx3-ubyte', 'train-labels-idx1-ubyte',\n",
    "#           't10k-images-idx3-ubyte', 't10k-labels-idx1-ubyte'\n",
    "\n",
    "y_train = tools.load_mnist_labels(imgFils[1])\n",
    "X_train = tools.load_mnist_images(imgFils[0], len(y_train))\n",
    "\n",
    "y_test = tools.load_mnist_labels(imgFils[3])\n",
    "X_test = tools.load_mnist_images(imgFils[2], len(y_test))"
   ]
  },
  {
   "cell_type": "markdown",
   "metadata": {},
   "source": [
    "Here is a sample of the first 10 numbers from our data with unique labels (0-9)"
   ]
  },
  {
   "cell_type": "code",
   "execution_count": null,
   "metadata": {
    "collapsed": false
   },
   "outputs": [
    {
     "data": {
      "image/png": "[encoded data removed]",
      "text/plain": [
       "<matplotlib.figure.Figure at 0x103f11748>"
      ]
     },
     "metadata": {},
     "output_type": "display_data"
    }
   ],
   "source": [
    "# plot first few images to test import\n",
    "test.CreateSamplePlot(X_train, y_train, './figures/mnist_all.png')\n",
    "# test.PlotSingleKind(X_train, y_train, 25, 4, './figures/mnist_'+str(4)+'.png')"
   ]
  },
  {
   "cell_type": "markdown",
   "metadata": {},
   "source": [
    "Here we train our network."
   ]
  },
  {
   "cell_type": "code",
   "execution_count": null,
   "metadata": {
    "collapsed": false
   },
   "outputs": [
    {
     "name": "stderr",
     "output_type": "stream",
     "text": [
      "epoch: 74/400"
     ]
    }
   ],
   "source": [
    "nClasses = 10\n",
    "nNodesInHiddenLayer = 50\n",
    "network = mlp.network(X_train.shape[1], nClasses, nNodesInHiddenLayer)\n",
    "    \n",
    "eta=0.0001\n",
    "maxepoch = 400\n",
    "nn = network.train(X_train, y_train, maxepoch, eta)\n"
   ]
  },
  {
   "cell_type": "markdown",
   "metadata": {},
   "source": [
    "Here we test the accuracy of our model on the training data."
   ]
  },
  {
   "cell_type": "code",
   "execution_count": null,
   "metadata": {
    "collapsed": false
   },
   "outputs": [],
   "source": [
    "y_train_pred = nn.predict(X_train)\n",
    "\n",
    "acc = np.sum(y_train == y_train_pred, axis=0) / X_train.shape[0]\n",
    "print('Training accuracy: %.2f%%' % (acc * 100))"
   ]
  },
  {
   "cell_type": "markdown",
   "metadata": {},
   "source": [
    "Now on the test data."
   ]
  },
  {
   "cell_type": "code",
   "execution_count": null,
   "metadata": {
    "collapsed": false
   },
   "outputs": [],
   "source": [
    "y_test_pred = nn.predict(X_test)\n",
    "\n",
    "acc = np.sum(y_test == y_test_pred, axis=0) / X_test.shape[0]\n",
    "print('Test accuracy: %.2f%%' % (acc * 100))"
   ]
  },
  {
   "cell_type": "markdown",
   "metadata": {},
   "source": [
    "Plot the a few misclassified images."
   ]
  },
  {
   "cell_type": "code",
   "execution_count": null,
   "metadata": {
    "collapsed": false
   },
   "outputs": [],
   "source": [
    "print(\"misclassified digits (T-true label, P-predicted label)\")\n",
    "miscl_img = X_test[y_test != y_test_pred][:25]\n",
    "correct_lab = y_test[y_test != y_test_pred][:25]\n",
    "miscl_lab = y_test_pred[y_test != y_test_pred][:25]\n",
    "\n",
    "fig, ax = plt.subplots(nrows=5, ncols=5, sharex=True, sharey=True,)\n",
    "ax = ax.flatten()\n",
    "\n",
    "for i in range(25):\n",
    "    img = miscl_img[i].reshape(28, 28)\n",
    "    ax[i].imshow(img, cmap='Greys', interpolation='nearest')\n",
    "    ax[i].set_title('T:{} P:{}'.format(correct_lab[i],miscl_lab[i]))\n",
    "\n",
    "\n",
    "ax[0].set_xticks([])\n",
    "ax[0].set_yticks([])\n",
    "plt.tight_layout()\n",
    "plt.savefig('./figures/mnist_miscl.png', dpi=300)\n",
    "plt.show()"
   ]
  },
  {
   "cell_type": "code",
   "execution_count": null,
   "metadata": {
    "collapsed": true
   },
   "outputs": [],
   "source": []
  }
 ],
 "metadata": {
  "anaconda-cloud": {},
  "kernelspec": {
   "display_name": "Python [Root]",
   "language": "python",
   "name": "Python [Root]"
  },
  "language_info": {
   "codemirror_mode": {
    "name": "ipython",
    "version": 3
   },
   "file_extension": ".py",
   "mimetype": "text/x-python",
   "name": "python",
   "nbconvert_exporter": "python",
   "pygments_lexer": "ipython3",
   "version": "3.5.2"
  }
 },
 "nbformat": 4,
 "nbformat_minor": 0
}
